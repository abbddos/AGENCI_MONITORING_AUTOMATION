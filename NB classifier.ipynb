{
  "nbformat": 4,
  "nbformat_minor": 0,
  "metadata": {
    "colab": {
      "provenance": [],
      "mount_file_id": "1X6o9jNT05Frz28fIG1D6txh6Nz_uqjrT",
      "authorship_tag": "ABX9TyPriGuTK5t5gUGG9Gnk65hG",
      "include_colab_link": true
    },
    "kernelspec": {
      "name": "python3",
      "display_name": "Python 3"
    },
    "language_info": {
      "name": "python"
    }
  },
  "cells": [
    {
      "cell_type": "markdown",
      "metadata": {
        "id": "view-in-github",
        "colab_type": "text"
      },
      "source": [
        "<a href=\"https://colab.research.google.com/github/abbddos/AGENCI_MONITORING_AUTOMATION/blob/main/NB%20classifier.ipynb\" target=\"_parent\"><img src=\"https://colab.research.google.com/assets/colab-badge.svg\" alt=\"Open In Colab\"/></a>"
      ]
    },
    {
      "cell_type": "markdown",
      "source": [
        "# NAIVE BAYES TEXT CLASSIFIER.\n",
        "\n",
        "This notebook explains how the multinomial Naive Bayes (MultinomialNB) algorithm is used for the purpose of classifying free text(s) taken either from sorted files or from a classified dataset. "
      ],
      "metadata": {
        "id": "g4vZf_OeP629"
      }
    },
    {
      "cell_type": "markdown",
      "source": [
        "## Required libraries:\n",
        "\n",
        "In this notebook you will need:\n",
        "* Pandas to read, manipulate and store your data in dataframes.\n",
        "* Numpy to create numerical arrays needed for the MultinomialNB algorithm to process.\n",
        "* Matplotlib for plotting data.\n",
        "* Seaborn for plotting data (optional).\n",
        "* Regular Expression (re) for text manipulation: removing tags, puctuations and unnecessary marks.\n",
        "* Natural Language Tool Kit (nltk)."
      ],
      "metadata": {
        "id": "z-Q--PbJrD5n"
      }
    },
    {
      "cell_type": "code",
      "execution_count": 1,
      "metadata": {
        "id": "6ume2WV4bnOl"
      },
      "outputs": [],
      "source": [
        "import pandas as pd\n",
        "import numpy as np\n",
        "import matplotlib.pyplot as plt\n",
        "import seaborn as sns\n",
        "import re\n",
        "import nltk"
      ]
    },
    {
      "cell_type": "markdown",
      "source": [
        "### NLTK functions:\n",
        "\n",
        "The following functions were also imported form nltk library to drop stopwords, lemmatize vocabulary and create tokens. Necessary datasets from nltk were also downloaded. _(This might not work directly on Windows.)_"
      ],
      "metadata": {
        "id": "vAmkVVPgsHMS"
      }
    },
    {
      "cell_type": "code",
      "source": [
        "from nltk.corpus import stopwords\n",
        "from nltk.stem import PorterStemmer\n",
        "from nltk.stem import WordNetLemmatizer\n",
        "from nltk.tokenize import word_tokenize\n",
        "from nltk.tokenize import sent_tokenize\n",
        "from wordcloud import WordCloud"
      ],
      "metadata": {
        "id": "JGkr3cLubyg5"
      },
      "execution_count": 2,
      "outputs": []
    },
    {
      "cell_type": "code",
      "source": [
        "nltk.download('stopwords')\n",
        "nltk.download('wordnet')\n",
        "nltk.download('punkt')\n",
        "nltk.download('omw-1.4')"
      ],
      "metadata": {
        "colab": {
          "base_uri": "https://localhost:8080/"
        },
        "id": "QOl7MwjkcT7p",
        "outputId": "b020d980-8508-4f6f-973a-d1e07a834a6d"
      },
      "execution_count": 3,
      "outputs": [
        {
          "output_type": "stream",
          "name": "stderr",
          "text": [
            "[nltk_data] Downloading package stopwords to /root/nltk_data...\n",
            "[nltk_data]   Unzipping corpora/stopwords.zip.\n",
            "[nltk_data] Downloading package wordnet to /root/nltk_data...\n",
            "[nltk_data] Downloading package punkt to /root/nltk_data...\n",
            "[nltk_data]   Unzipping tokenizers/punkt.zip.\n",
            "[nltk_data] Downloading package omw-1.4 to /root/nltk_data...\n"
          ]
        },
        {
          "output_type": "execute_result",
          "data": {
            "text/plain": [
              "True"
            ]
          },
          "metadata": {},
          "execution_count": 3
        }
      ]
    },
    {
      "cell_type": "markdown",
      "source": [
        "Finally, vectorization, train - test split, accuracy scoring and testing and of course MultinomialNB functionalities were imported form sklearn."
      ],
      "metadata": {
        "id": "O2A7QhEmsp_o"
      }
    },
    {
      "cell_type": "code",
      "source": [
        "from sklearn.feature_extraction.text import CountVectorizer\n",
        "from sklearn.feature_extraction.text import TfidfVectorizer\n",
        "from sklearn.model_selection import train_test_split\n",
        "from sklearn.metrics import accuracy_score\n",
        "from sklearn.metrics import precision_recall_fscore_support as score\n",
        "from sklearn.naive_bayes import MultinomialNB\n",
        "from sklearn.multiclass import OneVsRestClassifier"
      ],
      "metadata": {
        "id": "AFrBgOyVceVG"
      },
      "execution_count": 4,
      "outputs": []
    },
    {
      "cell_type": "markdown",
      "source": [
        "## Downloading dataset:\n",
        "\n",
        "The dataset had already been downloaded and loaded to my google account. It was imported as a pandas dataframe and to make things faster, only 100 lines were randomly selected from it. The dataset itself contains short articles and their categories put in a csv file."
      ],
      "metadata": {
        "id": "IzmvQNE8tES_"
      }
    },
    {
      "cell_type": "code",
      "source": [
        "dataset = pd.read_csv('/content/drive/MyDrive/Colab Notebooks/BBC News Train.csv')\n",
        "dataset = dataset.sample(n=100, random_state=1)\n",
        "dataset.head()"
      ],
      "metadata": {
        "colab": {
          "base_uri": "https://localhost:8080/",
          "height": 206
        },
        "id": "oCDFDU4zdiPl",
        "outputId": "346d9c3c-ba7d-41f7-a23d-f0e86890e017"
      },
      "execution_count": 5,
      "outputs": [
        {
          "output_type": "execute_result",
          "data": {
            "text/plain": [
              "      ArticleId                                               Text  \\\n",
              "91         1756  2d metal slug offers retro fun like some drill...   \n",
              "1103       1108  blair stresses prosperity goals tony blair say...   \n",
              "909        1955  weak dollar trims cadbury profits the world s ...   \n",
              "683          63  court rejects $280bn tobacco case a us governm...   \n",
              "561         293  christmas song formula  unveiled a formula for...   \n",
              "\n",
              "           Category  \n",
              "91             tech  \n",
              "1103       politics  \n",
              "909        business  \n",
              "683        business  \n",
              "561   entertainment  "
            ],
            "text/html": [
              "\n",
              "  <div id=\"df-cc90acff-494b-4c09-a24f-6323c72777fb\">\n",
              "    <div class=\"colab-df-container\">\n",
              "      <div>\n",
              "<style scoped>\n",
              "    .dataframe tbody tr th:only-of-type {\n",
              "        vertical-align: middle;\n",
              "    }\n",
              "\n",
              "    .dataframe tbody tr th {\n",
              "        vertical-align: top;\n",
              "    }\n",
              "\n",
              "    .dataframe thead th {\n",
              "        text-align: right;\n",
              "    }\n",
              "</style>\n",
              "<table border=\"1\" class=\"dataframe\">\n",
              "  <thead>\n",
              "    <tr style=\"text-align: right;\">\n",
              "      <th></th>\n",
              "      <th>ArticleId</th>\n",
              "      <th>Text</th>\n",
              "      <th>Category</th>\n",
              "    </tr>\n",
              "  </thead>\n",
              "  <tbody>\n",
              "    <tr>\n",
              "      <th>91</th>\n",
              "      <td>1756</td>\n",
              "      <td>2d metal slug offers retro fun like some drill...</td>\n",
              "      <td>tech</td>\n",
              "    </tr>\n",
              "    <tr>\n",
              "      <th>1103</th>\n",
              "      <td>1108</td>\n",
              "      <td>blair stresses prosperity goals tony blair say...</td>\n",
              "      <td>politics</td>\n",
              "    </tr>\n",
              "    <tr>\n",
              "      <th>909</th>\n",
              "      <td>1955</td>\n",
              "      <td>weak dollar trims cadbury profits the world s ...</td>\n",
              "      <td>business</td>\n",
              "    </tr>\n",
              "    <tr>\n",
              "      <th>683</th>\n",
              "      <td>63</td>\n",
              "      <td>court rejects $280bn tobacco case a us governm...</td>\n",
              "      <td>business</td>\n",
              "    </tr>\n",
              "    <tr>\n",
              "      <th>561</th>\n",
              "      <td>293</td>\n",
              "      <td>christmas song formula  unveiled a formula for...</td>\n",
              "      <td>entertainment</td>\n",
              "    </tr>\n",
              "  </tbody>\n",
              "</table>\n",
              "</div>\n",
              "      <button class=\"colab-df-convert\" onclick=\"convertToInteractive('df-cc90acff-494b-4c09-a24f-6323c72777fb')\"\n",
              "              title=\"Convert this dataframe to an interactive table.\"\n",
              "              style=\"display:none;\">\n",
              "        \n",
              "  <svg xmlns=\"http://www.w3.org/2000/svg\" height=\"24px\"viewBox=\"0 0 24 24\"\n",
              "       width=\"24px\">\n",
              "    <path d=\"M0 0h24v24H0V0z\" fill=\"none\"/>\n",
              "    <path d=\"M18.56 5.44l.94 2.06.94-2.06 2.06-.94-2.06-.94-.94-2.06-.94 2.06-2.06.94zm-11 1L8.5 8.5l.94-2.06 2.06-.94-2.06-.94L8.5 2.5l-.94 2.06-2.06.94zm10 10l.94 2.06.94-2.06 2.06-.94-2.06-.94-.94-2.06-.94 2.06-2.06.94z\"/><path d=\"M17.41 7.96l-1.37-1.37c-.4-.4-.92-.59-1.43-.59-.52 0-1.04.2-1.43.59L10.3 9.45l-7.72 7.72c-.78.78-.78 2.05 0 2.83L4 21.41c.39.39.9.59 1.41.59.51 0 1.02-.2 1.41-.59l7.78-7.78 2.81-2.81c.8-.78.8-2.07 0-2.86zM5.41 20L4 18.59l7.72-7.72 1.47 1.35L5.41 20z\"/>\n",
              "  </svg>\n",
              "      </button>\n",
              "      \n",
              "  <style>\n",
              "    .colab-df-container {\n",
              "      display:flex;\n",
              "      flex-wrap:wrap;\n",
              "      gap: 12px;\n",
              "    }\n",
              "\n",
              "    .colab-df-convert {\n",
              "      background-color: #E8F0FE;\n",
              "      border: none;\n",
              "      border-radius: 50%;\n",
              "      cursor: pointer;\n",
              "      display: none;\n",
              "      fill: #1967D2;\n",
              "      height: 32px;\n",
              "      padding: 0 0 0 0;\n",
              "      width: 32px;\n",
              "    }\n",
              "\n",
              "    .colab-df-convert:hover {\n",
              "      background-color: #E2EBFA;\n",
              "      box-shadow: 0px 1px 2px rgba(60, 64, 67, 0.3), 0px 1px 3px 1px rgba(60, 64, 67, 0.15);\n",
              "      fill: #174EA6;\n",
              "    }\n",
              "\n",
              "    [theme=dark] .colab-df-convert {\n",
              "      background-color: #3B4455;\n",
              "      fill: #D2E3FC;\n",
              "    }\n",
              "\n",
              "    [theme=dark] .colab-df-convert:hover {\n",
              "      background-color: #434B5C;\n",
              "      box-shadow: 0px 1px 3px 1px rgba(0, 0, 0, 0.15);\n",
              "      filter: drop-shadow(0px 1px 2px rgba(0, 0, 0, 0.3));\n",
              "      fill: #FFFFFF;\n",
              "    }\n",
              "  </style>\n",
              "\n",
              "      <script>\n",
              "        const buttonEl =\n",
              "          document.querySelector('#df-cc90acff-494b-4c09-a24f-6323c72777fb button.colab-df-convert');\n",
              "        buttonEl.style.display =\n",
              "          google.colab.kernel.accessAllowed ? 'block' : 'none';\n",
              "\n",
              "        async function convertToInteractive(key) {\n",
              "          const element = document.querySelector('#df-cc90acff-494b-4c09-a24f-6323c72777fb');\n",
              "          const dataTable =\n",
              "            await google.colab.kernel.invokeFunction('convertToInteractive',\n",
              "                                                     [key], {});\n",
              "          if (!dataTable) return;\n",
              "\n",
              "          const docLinkHtml = 'Like what you see? Visit the ' +\n",
              "            '<a target=\"_blank\" href=https://colab.research.google.com/notebooks/data_table.ipynb>data table notebook</a>'\n",
              "            + ' to learn more about interactive tables.';\n",
              "          element.innerHTML = '';\n",
              "          dataTable['output_type'] = 'display_data';\n",
              "          await google.colab.output.renderOutput(dataTable, element);\n",
              "          const docLink = document.createElement('div');\n",
              "          docLink.innerHTML = docLinkHtml;\n",
              "          element.appendChild(docLink);\n",
              "        }\n",
              "      </script>\n",
              "    </div>\n",
              "  </div>\n",
              "  "
            ]
          },
          "metadata": {},
          "execution_count": 5
        }
      ]
    },
    {
      "cell_type": "code",
      "source": [
        "dataset.shape"
      ],
      "metadata": {
        "colab": {
          "base_uri": "https://localhost:8080/"
        },
        "id": "5NtQCRDVdjTy",
        "outputId": "cb23bc4b-8636-4055-c79e-d463dfe42c89"
      },
      "execution_count": 6,
      "outputs": [
        {
          "output_type": "execute_result",
          "data": {
            "text/plain": [
              "(100, 3)"
            ]
          },
          "metadata": {},
          "execution_count": 6
        }
      ]
    },
    {
      "cell_type": "markdown",
      "source": [
        "## Data processing:\n",
        "\n",
        "In order to create a correct classifier, the exact categories in which the dataset is categoriezed needed to be determined. For that, a value counts was implemented on the \"Category\" column in the dataset."
      ],
      "metadata": {
        "id": "mugVhIvWtmIU"
      }
    },
    {
      "cell_type": "code",
      "source": [
        "dataset['Category'].value_counts()"
      ],
      "metadata": {
        "colab": {
          "base_uri": "https://localhost:8080/"
        },
        "id": "s8GG0OBvdm3d",
        "outputId": "72956ea5-3253-4f96-a199-de8e5670608c"
      },
      "execution_count": 7,
      "outputs": [
        {
          "output_type": "execute_result",
          "data": {
            "text/plain": [
              "sport            23\n",
              "politics         21\n",
              "business         20\n",
              "tech             18\n",
              "entertainment    18\n",
              "Name: Category, dtype: int64"
            ]
          },
          "metadata": {},
          "execution_count": 7
        }
      ]
    },
    {
      "cell_type": "markdown",
      "source": [
        "After that, each category was assigned a number from 0 to 4."
      ],
      "metadata": {
        "id": "hLfeJv1GunWs"
      }
    },
    {
      "cell_type": "code",
      "source": [
        "dataset['CategoryID'] = dataset['Category'].factorize()[0]\n",
        "dataset.head()"
      ],
      "metadata": {
        "colab": {
          "base_uri": "https://localhost:8080/",
          "height": 206
        },
        "id": "s1DRc33Ldqms",
        "outputId": "6fde8fee-50cc-41d2-ec6c-e4f13ad6a3c1"
      },
      "execution_count": 8,
      "outputs": [
        {
          "output_type": "execute_result",
          "data": {
            "text/plain": [
              "      ArticleId                                               Text  \\\n",
              "91         1756  2d metal slug offers retro fun like some drill...   \n",
              "1103       1108  blair stresses prosperity goals tony blair say...   \n",
              "909        1955  weak dollar trims cadbury profits the world s ...   \n",
              "683          63  court rejects $280bn tobacco case a us governm...   \n",
              "561         293  christmas song formula  unveiled a formula for...   \n",
              "\n",
              "           Category  CategoryID  \n",
              "91             tech           0  \n",
              "1103       politics           1  \n",
              "909        business           2  \n",
              "683        business           2  \n",
              "561   entertainment           3  "
            ],
            "text/html": [
              "\n",
              "  <div id=\"df-96527f3c-faab-40df-ad04-92ad7aefdadc\">\n",
              "    <div class=\"colab-df-container\">\n",
              "      <div>\n",
              "<style scoped>\n",
              "    .dataframe tbody tr th:only-of-type {\n",
              "        vertical-align: middle;\n",
              "    }\n",
              "\n",
              "    .dataframe tbody tr th {\n",
              "        vertical-align: top;\n",
              "    }\n",
              "\n",
              "    .dataframe thead th {\n",
              "        text-align: right;\n",
              "    }\n",
              "</style>\n",
              "<table border=\"1\" class=\"dataframe\">\n",
              "  <thead>\n",
              "    <tr style=\"text-align: right;\">\n",
              "      <th></th>\n",
              "      <th>ArticleId</th>\n",
              "      <th>Text</th>\n",
              "      <th>Category</th>\n",
              "      <th>CategoryID</th>\n",
              "    </tr>\n",
              "  </thead>\n",
              "  <tbody>\n",
              "    <tr>\n",
              "      <th>91</th>\n",
              "      <td>1756</td>\n",
              "      <td>2d metal slug offers retro fun like some drill...</td>\n",
              "      <td>tech</td>\n",
              "      <td>0</td>\n",
              "    </tr>\n",
              "    <tr>\n",
              "      <th>1103</th>\n",
              "      <td>1108</td>\n",
              "      <td>blair stresses prosperity goals tony blair say...</td>\n",
              "      <td>politics</td>\n",
              "      <td>1</td>\n",
              "    </tr>\n",
              "    <tr>\n",
              "      <th>909</th>\n",
              "      <td>1955</td>\n",
              "      <td>weak dollar trims cadbury profits the world s ...</td>\n",
              "      <td>business</td>\n",
              "      <td>2</td>\n",
              "    </tr>\n",
              "    <tr>\n",
              "      <th>683</th>\n",
              "      <td>63</td>\n",
              "      <td>court rejects $280bn tobacco case a us governm...</td>\n",
              "      <td>business</td>\n",
              "      <td>2</td>\n",
              "    </tr>\n",
              "    <tr>\n",
              "      <th>561</th>\n",
              "      <td>293</td>\n",
              "      <td>christmas song formula  unveiled a formula for...</td>\n",
              "      <td>entertainment</td>\n",
              "      <td>3</td>\n",
              "    </tr>\n",
              "  </tbody>\n",
              "</table>\n",
              "</div>\n",
              "      <button class=\"colab-df-convert\" onclick=\"convertToInteractive('df-96527f3c-faab-40df-ad04-92ad7aefdadc')\"\n",
              "              title=\"Convert this dataframe to an interactive table.\"\n",
              "              style=\"display:none;\">\n",
              "        \n",
              "  <svg xmlns=\"http://www.w3.org/2000/svg\" height=\"24px\"viewBox=\"0 0 24 24\"\n",
              "       width=\"24px\">\n",
              "    <path d=\"M0 0h24v24H0V0z\" fill=\"none\"/>\n",
              "    <path d=\"M18.56 5.44l.94 2.06.94-2.06 2.06-.94-2.06-.94-.94-2.06-.94 2.06-2.06.94zm-11 1L8.5 8.5l.94-2.06 2.06-.94-2.06-.94L8.5 2.5l-.94 2.06-2.06.94zm10 10l.94 2.06.94-2.06 2.06-.94-2.06-.94-.94-2.06-.94 2.06-2.06.94z\"/><path d=\"M17.41 7.96l-1.37-1.37c-.4-.4-.92-.59-1.43-.59-.52 0-1.04.2-1.43.59L10.3 9.45l-7.72 7.72c-.78.78-.78 2.05 0 2.83L4 21.41c.39.39.9.59 1.41.59.51 0 1.02-.2 1.41-.59l7.78-7.78 2.81-2.81c.8-.78.8-2.07 0-2.86zM5.41 20L4 18.59l7.72-7.72 1.47 1.35L5.41 20z\"/>\n",
              "  </svg>\n",
              "      </button>\n",
              "      \n",
              "  <style>\n",
              "    .colab-df-container {\n",
              "      display:flex;\n",
              "      flex-wrap:wrap;\n",
              "      gap: 12px;\n",
              "    }\n",
              "\n",
              "    .colab-df-convert {\n",
              "      background-color: #E8F0FE;\n",
              "      border: none;\n",
              "      border-radius: 50%;\n",
              "      cursor: pointer;\n",
              "      display: none;\n",
              "      fill: #1967D2;\n",
              "      height: 32px;\n",
              "      padding: 0 0 0 0;\n",
              "      width: 32px;\n",
              "    }\n",
              "\n",
              "    .colab-df-convert:hover {\n",
              "      background-color: #E2EBFA;\n",
              "      box-shadow: 0px 1px 2px rgba(60, 64, 67, 0.3), 0px 1px 3px 1px rgba(60, 64, 67, 0.15);\n",
              "      fill: #174EA6;\n",
              "    }\n",
              "\n",
              "    [theme=dark] .colab-df-convert {\n",
              "      background-color: #3B4455;\n",
              "      fill: #D2E3FC;\n",
              "    }\n",
              "\n",
              "    [theme=dark] .colab-df-convert:hover {\n",
              "      background-color: #434B5C;\n",
              "      box-shadow: 0px 1px 3px 1px rgba(0, 0, 0, 0.15);\n",
              "      filter: drop-shadow(0px 1px 2px rgba(0, 0, 0, 0.3));\n",
              "      fill: #FFFFFF;\n",
              "    }\n",
              "  </style>\n",
              "\n",
              "      <script>\n",
              "        const buttonEl =\n",
              "          document.querySelector('#df-96527f3c-faab-40df-ad04-92ad7aefdadc button.colab-df-convert');\n",
              "        buttonEl.style.display =\n",
              "          google.colab.kernel.accessAllowed ? 'block' : 'none';\n",
              "\n",
              "        async function convertToInteractive(key) {\n",
              "          const element = document.querySelector('#df-96527f3c-faab-40df-ad04-92ad7aefdadc');\n",
              "          const dataTable =\n",
              "            await google.colab.kernel.invokeFunction('convertToInteractive',\n",
              "                                                     [key], {});\n",
              "          if (!dataTable) return;\n",
              "\n",
              "          const docLinkHtml = 'Like what you see? Visit the ' +\n",
              "            '<a target=\"_blank\" href=https://colab.research.google.com/notebooks/data_table.ipynb>data table notebook</a>'\n",
              "            + ' to learn more about interactive tables.';\n",
              "          element.innerHTML = '';\n",
              "          dataTable['output_type'] = 'display_data';\n",
              "          await google.colab.output.renderOutput(dataTable, element);\n",
              "          const docLink = document.createElement('div');\n",
              "          docLink.innerHTML = docLinkHtml;\n",
              "          element.appendChild(docLink);\n",
              "        }\n",
              "      </script>\n",
              "    </div>\n",
              "  </div>\n",
              "  "
            ]
          },
          "metadata": {},
          "execution_count": 8
        }
      ]
    },
    {
      "cell_type": "code",
      "source": [
        "category = dataset[['Category', 'CategoryID']].drop_duplicates().sort_values('CategoryID')\n",
        "category"
      ],
      "metadata": {
        "colab": {
          "base_uri": "https://localhost:8080/",
          "height": 206
        },
        "id": "kKjsngWSdwFF",
        "outputId": "76861ca6-0e14-4e1b-c826-68738196d1bb"
      },
      "execution_count": 9,
      "outputs": [
        {
          "output_type": "execute_result",
          "data": {
            "text/plain": [
              "           Category  CategoryID\n",
              "91             tech           0\n",
              "1103       politics           1\n",
              "909        business           2\n",
              "561   entertainment           3\n",
              "980           sport           4"
            ],
            "text/html": [
              "\n",
              "  <div id=\"df-4316533e-7f03-422d-85f1-a2ad949a51a2\">\n",
              "    <div class=\"colab-df-container\">\n",
              "      <div>\n",
              "<style scoped>\n",
              "    .dataframe tbody tr th:only-of-type {\n",
              "        vertical-align: middle;\n",
              "    }\n",
              "\n",
              "    .dataframe tbody tr th {\n",
              "        vertical-align: top;\n",
              "    }\n",
              "\n",
              "    .dataframe thead th {\n",
              "        text-align: right;\n",
              "    }\n",
              "</style>\n",
              "<table border=\"1\" class=\"dataframe\">\n",
              "  <thead>\n",
              "    <tr style=\"text-align: right;\">\n",
              "      <th></th>\n",
              "      <th>Category</th>\n",
              "      <th>CategoryID</th>\n",
              "    </tr>\n",
              "  </thead>\n",
              "  <tbody>\n",
              "    <tr>\n",
              "      <th>91</th>\n",
              "      <td>tech</td>\n",
              "      <td>0</td>\n",
              "    </tr>\n",
              "    <tr>\n",
              "      <th>1103</th>\n",
              "      <td>politics</td>\n",
              "      <td>1</td>\n",
              "    </tr>\n",
              "    <tr>\n",
              "      <th>909</th>\n",
              "      <td>business</td>\n",
              "      <td>2</td>\n",
              "    </tr>\n",
              "    <tr>\n",
              "      <th>561</th>\n",
              "      <td>entertainment</td>\n",
              "      <td>3</td>\n",
              "    </tr>\n",
              "    <tr>\n",
              "      <th>980</th>\n",
              "      <td>sport</td>\n",
              "      <td>4</td>\n",
              "    </tr>\n",
              "  </tbody>\n",
              "</table>\n",
              "</div>\n",
              "      <button class=\"colab-df-convert\" onclick=\"convertToInteractive('df-4316533e-7f03-422d-85f1-a2ad949a51a2')\"\n",
              "              title=\"Convert this dataframe to an interactive table.\"\n",
              "              style=\"display:none;\">\n",
              "        \n",
              "  <svg xmlns=\"http://www.w3.org/2000/svg\" height=\"24px\"viewBox=\"0 0 24 24\"\n",
              "       width=\"24px\">\n",
              "    <path d=\"M0 0h24v24H0V0z\" fill=\"none\"/>\n",
              "    <path d=\"M18.56 5.44l.94 2.06.94-2.06 2.06-.94-2.06-.94-.94-2.06-.94 2.06-2.06.94zm-11 1L8.5 8.5l.94-2.06 2.06-.94-2.06-.94L8.5 2.5l-.94 2.06-2.06.94zm10 10l.94 2.06.94-2.06 2.06-.94-2.06-.94-.94-2.06-.94 2.06-2.06.94z\"/><path d=\"M17.41 7.96l-1.37-1.37c-.4-.4-.92-.59-1.43-.59-.52 0-1.04.2-1.43.59L10.3 9.45l-7.72 7.72c-.78.78-.78 2.05 0 2.83L4 21.41c.39.39.9.59 1.41.59.51 0 1.02-.2 1.41-.59l7.78-7.78 2.81-2.81c.8-.78.8-2.07 0-2.86zM5.41 20L4 18.59l7.72-7.72 1.47 1.35L5.41 20z\"/>\n",
              "  </svg>\n",
              "      </button>\n",
              "      \n",
              "  <style>\n",
              "    .colab-df-container {\n",
              "      display:flex;\n",
              "      flex-wrap:wrap;\n",
              "      gap: 12px;\n",
              "    }\n",
              "\n",
              "    .colab-df-convert {\n",
              "      background-color: #E8F0FE;\n",
              "      border: none;\n",
              "      border-radius: 50%;\n",
              "      cursor: pointer;\n",
              "      display: none;\n",
              "      fill: #1967D2;\n",
              "      height: 32px;\n",
              "      padding: 0 0 0 0;\n",
              "      width: 32px;\n",
              "    }\n",
              "\n",
              "    .colab-df-convert:hover {\n",
              "      background-color: #E2EBFA;\n",
              "      box-shadow: 0px 1px 2px rgba(60, 64, 67, 0.3), 0px 1px 3px 1px rgba(60, 64, 67, 0.15);\n",
              "      fill: #174EA6;\n",
              "    }\n",
              "\n",
              "    [theme=dark] .colab-df-convert {\n",
              "      background-color: #3B4455;\n",
              "      fill: #D2E3FC;\n",
              "    }\n",
              "\n",
              "    [theme=dark] .colab-df-convert:hover {\n",
              "      background-color: #434B5C;\n",
              "      box-shadow: 0px 1px 3px 1px rgba(0, 0, 0, 0.15);\n",
              "      filter: drop-shadow(0px 1px 2px rgba(0, 0, 0, 0.3));\n",
              "      fill: #FFFFFF;\n",
              "    }\n",
              "  </style>\n",
              "\n",
              "      <script>\n",
              "        const buttonEl =\n",
              "          document.querySelector('#df-4316533e-7f03-422d-85f1-a2ad949a51a2 button.colab-df-convert');\n",
              "        buttonEl.style.display =\n",
              "          google.colab.kernel.accessAllowed ? 'block' : 'none';\n",
              "\n",
              "        async function convertToInteractive(key) {\n",
              "          const element = document.querySelector('#df-4316533e-7f03-422d-85f1-a2ad949a51a2');\n",
              "          const dataTable =\n",
              "            await google.colab.kernel.invokeFunction('convertToInteractive',\n",
              "                                                     [key], {});\n",
              "          if (!dataTable) return;\n",
              "\n",
              "          const docLinkHtml = 'Like what you see? Visit the ' +\n",
              "            '<a target=\"_blank\" href=https://colab.research.google.com/notebooks/data_table.ipynb>data table notebook</a>'\n",
              "            + ' to learn more about interactive tables.';\n",
              "          element.innerHTML = '';\n",
              "          dataTable['output_type'] = 'display_data';\n",
              "          await google.colab.output.renderOutput(dataTable, element);\n",
              "          const docLink = document.createElement('div');\n",
              "          docLink.innerHTML = docLinkHtml;\n",
              "          element.appendChild(docLink);\n",
              "        }\n",
              "      </script>\n",
              "    </div>\n",
              "  </div>\n",
              "  "
            ]
          },
          "metadata": {},
          "execution_count": 9
        }
      ]
    },
    {
      "cell_type": "markdown",
      "source": [
        "A little bar chart was made to show how many entries for each category was in the dataset. This step is not really necessary, you can skip it if you like."
      ],
      "metadata": {
        "id": "mo4CbAvzu5JF"
      }
    },
    {
      "cell_type": "code",
      "source": [
        "dataset.groupby('Category').CategoryID.value_counts().plot(kind='bar', color = [\"blue\", \"red\", \"green\", \"orange\", \"magenta\"])\n",
        "plt.xlabel(\"Category of data\")\n",
        "plt.title(\"Visulaize numbers of Category of data\")\n",
        "plt.show()"
      ],
      "metadata": {
        "colab": {
          "base_uri": "https://localhost:8080/",
          "height": 377
        },
        "id": "7X9IOBXxdzf7",
        "outputId": "87b91e1e-d60e-4a10-8a65-069cfa402a30"
      },
      "execution_count": 10,
      "outputs": [
        {
          "output_type": "display_data",
          "data": {
            "text/plain": [
              "<Figure size 432x288 with 1 Axes>"
            ],
            "image/png": "[encoded data removed]"
          },
          "metadata": {
            "needs_background": "light"
          }
        }
      ]
    },
    {
      "cell_type": "code",
      "source": [
        "text = dataset[\"Text\"]\n",
        "text.head(10)"
      ],
      "metadata": {
        "colab": {
          "base_uri": "https://localhost:8080/"
        },
        "id": "GydKj_K-d2oA",
        "outputId": "fbe62ae6-60c8-4e02-ffdd-44d70bf1d3e2"
      },
      "execution_count": 11,
      "outputs": [
        {
          "output_type": "execute_result",
          "data": {
            "text/plain": [
              "91      2d metal slug offers retro fun like some drill...\n",
              "1103    blair stresses prosperity goals tony blair say...\n",
              "909     weak dollar trims cadbury profits the world s ...\n",
              "683     court rejects $280bn tobacco case a us governm...\n",
              "561     christmas song formula  unveiled a formula for...\n",
              "1341    lacroix label bought by us firm luxury goods g...\n",
              "1480    qantas sees profits fly to record australian a...\n",
              "1048    watchdog probes e-mail deletions the informati...\n",
              "885     lord scarman  93  dies peacefully distinguishe...\n",
              "1475    budget to set scene for election gordon brown ...\n",
              "Name: Text, dtype: object"
            ]
          },
          "metadata": {},
          "execution_count": 11
        }
      ]
    },
    {
      "cell_type": "code",
      "source": [
        "category = dataset['Category']\n",
        "category.head(10)"
      ],
      "metadata": {
        "colab": {
          "base_uri": "https://localhost:8080/"
        },
        "id": "d3pGin88eIDs",
        "outputId": "8af8d6e5-c103-4356-b4a8-a3e91336fc53"
      },
      "execution_count": 12,
      "outputs": [
        {
          "output_type": "execute_result",
          "data": {
            "text/plain": [
              "91               tech\n",
              "1103         politics\n",
              "909          business\n",
              "683          business\n",
              "561     entertainment\n",
              "1341         business\n",
              "1480         business\n",
              "1048         politics\n",
              "885          politics\n",
              "1475         politics\n",
              "Name: Category, dtype: object"
            ]
          },
          "metadata": {},
          "execution_count": 12
        }
      ]
    },
    {
      "cell_type": "markdown",
      "source": [
        "## Data preparation:\n",
        "\n",
        "A series of functions was designed and implemented to the dataset to make sure the Multinomial Naive Bayes classifier works well. First of which is to remove any HTML tags from the context of the articles included in the dataset. Removing any special characters or emojis is also required as well as pucturations. Next, each article was moved to lowercase, No capital letters should be included in the text. In order to make things simpler, stop words were also removed, and each word in each article was lemmantized. This will result a very crude, but understandable text."
      ],
      "metadata": {
        "id": "wUm9Yv_SvHwM"
      }
    },
    {
      "cell_type": "code",
      "source": [
        "def remove_tags(text):\n",
        "  remove = re.compile(r'')\n",
        "  return re.sub(remove, '', text)\n",
        "\n",
        "def special_char(text):\n",
        "  reviews = ''\n",
        "  for x in text:\n",
        "    if x.isalnum():\n",
        "      reviews = reviews + x\n",
        "    else:\n",
        "      reviews = reviews + ' '\n",
        "  return reviews\n",
        "\n",
        "def convert_lower(text):\n",
        "   return text.lower()\n",
        "\n",
        "def remove_stopwords(text):\n",
        "  stop_words = set(stopwords.words('english'))\n",
        "  words = word_tokenize(text)\n",
        "  return [x for x in words if x not in stop_words]\n",
        "\n",
        "def lemmatize_word(text):\n",
        "  wordnet = WordNetLemmatizer()\n",
        "  return \" \".join([wordnet.lemmatize(word) for word in text])\n",
        "\n",
        "dataset['Text'] = dataset['Text'].apply(remove_tags).apply(special_char).apply(convert_lower)\n",
        "dataset['Text'] = dataset['Text'].apply(remove_stopwords).apply(lemmatize_word)"
      ],
      "metadata": {
        "id": "ttpM2CDSeROx"
      },
      "execution_count": 13,
      "outputs": []
    },
    {
      "cell_type": "markdown",
      "source": [
        "After the necessary manipulation functions were created, the dataset itself was divided into two arrays using numpy. The first array contains the manipulated articles and the second one contains the category ids created earlier (The values from 0 to 4 assigned to each category)."
      ],
      "metadata": {
        "id": "tCQO_0gov5Qz"
      }
    },
    {
      "cell_type": "code",
      "source": [
        "x = dataset['Text']\n",
        "y = dataset['CategoryID']"
      ],
      "metadata": {
        "id": "K77NIqsxetGm"
      },
      "execution_count": 14,
      "outputs": []
    },
    {
      "cell_type": "markdown",
      "source": [
        "Since the MultinomialNB algorithm only deals with numerical values, text values in the articles should be converted into numbers. This is done using a vecorizer. A vectorizer assigns numerical values to text entries which makes it easier for machine learning algorithms, such as MultinomialNB, decisiotn trees and others, to deal with textual data."
      ],
      "metadata": {
        "id": "WU0FC4UnwYem"
      }
    },
    {
      "cell_type": "code",
      "source": [
        "x = np.array(dataset.iloc[:,0].values)\n",
        "y = np.array(dataset.CategoryID.values)\n",
        "cv = CountVectorizer(max_features = 5000)\n",
        "x = cv.fit_transform(dataset.Text).toarray()\n",
        "print(\"X.shape = \",x.shape)\n",
        "print(\"y.shape = \",y.shape)"
      ],
      "metadata": {
        "colab": {
          "base_uri": "https://localhost:8080/"
        },
        "id": "RGb6gH-EffeG",
        "outputId": "8eba09c9-80a4-4f01-f94f-1b94290c5b75"
      },
      "execution_count": 15,
      "outputs": [
        {
          "output_type": "stream",
          "name": "stdout",
          "text": [
            "X.shape =  (100, 5000)\n",
            "y.shape =  (100,)\n"
          ]
        }
      ]
    },
    {
      "cell_type": "markdown",
      "source": [
        "The dataset resulting from creating the arrays was then split into training and testing sets as follows:"
      ],
      "metadata": {
        "id": "--oiBYI5wxwv"
      }
    },
    {
      "cell_type": "code",
      "source": [
        "x_train, x_test, y_train, y_test = train_test_split(x, y, test_size = 0.3, random_state = 0, shuffle = True)\n",
        "print(len(x_train))\n",
        "print(len(x_test))"
      ],
      "metadata": {
        "colab": {
          "base_uri": "https://localhost:8080/"
        },
        "id": "R0olMOKWfnIS",
        "outputId": "af562451-ac13-438a-b4d5-7804ae57dcc9"
      },
      "execution_count": 16,
      "outputs": [
        {
          "output_type": "stream",
          "name": "stdout",
          "text": [
            "70\n",
            "30\n"
          ]
        }
      ]
    },
    {
      "cell_type": "markdown",
      "source": [
        "## Building the model:\n",
        "\n",
        "A model was built using the MultinomialNB object from sklearn library imported above, and then fit to the training dataset created in the previous step. The test set of the data was then used to determine the accuracy of the model after fitting. It appeared that the accuracy score of the model reached 93%, which was more than acceptable for such classifiers.\n",
        "\n",
        "_Note that the alpha value of the MultinomialNB classifier object is 0.5. Normally it should be 1, but for some reason it did not make any good predictions, and always gave values one step higher than expected. for example when an article of category 3 was passed, the classifer classified it as category 4. When assigning 0 to the alpha value, the opposite happened and no correct predictions were made. As such, the alpha value was incremented by 0.1 and tested several times until accurate predictions resulted at alpha = 0.5_"
      ],
      "metadata": {
        "id": "-ub8V2hXw5tY"
      }
    },
    {
      "cell_type": "code",
      "source": [
        "mdl = MultinomialNB(alpha=0.5,fit_prior=True)\n",
        "mdl.fit(x_train, y_train)\n",
        "oneVsRest = OneVsRestClassifier(mdl)\n",
        "oneVsRest.fit(x_train, y_train)\n",
        "y_pred = oneVsRest.predict(x_test)\n",
        "\n",
        "accuracy = round(accuracy_score(y_test, y_pred) * 100, 2)\n",
        "\n",
        "precision, recall, f1score, support = score(y_test, y_pred, average='micro')\n",
        "\n",
        "print(f'Test Accuracy Score of Basic Naive Bayez classifier: % {accuracy}')\n",
        "print(f'Precision : {precision}')\n",
        "print(f'Recall : {recall}')\n",
        "print(f'F1-score : {f1score}')\n"
      ],
      "metadata": {
        "colab": {
          "base_uri": "https://localhost:8080/"
        },
        "id": "yHHxYEljfrTB",
        "outputId": "529fc1d4-3e21-49f2-f859-0b24ce77c648"
      },
      "execution_count": 17,
      "outputs": [
        {
          "output_type": "stream",
          "name": "stdout",
          "text": [
            "Test Accuracy Score of Basic Naive Bayez classifier: % 93.33\n",
            "Precision : 0.9333333333333333\n",
            "Recall : 0.9333333333333333\n",
            "F1-score : 0.9333333333333333\n"
          ]
        }
      ]
    },
    {
      "cell_type": "markdown",
      "source": [
        "## Applying the model:\n",
        "\n",
        "The following function was created to pass articles of any type and see how the classifier works."
      ],
      "metadata": {
        "id": "rPnlHPZWyOzr"
      }
    },
    {
      "cell_type": "code",
      "source": [
        "MNB = MultinomialNB(alpha=0.5,fit_prior=True)\n",
        "MNB.fit(x_train, y_train)\n",
        "def Get_prediction(article):\n",
        "  pred = cv.transform([article])\n",
        "  score = MNB.predict(pred)\n",
        "  result = \"\"\n",
        "  if score == [0]:\n",
        "    result = \"Tech\"\n",
        "  elif score == [1]:\n",
        "    result = \"Politics\"\n",
        "  elif score == [2]:\n",
        "    result = \"Business\"\n",
        "  elif score == [3]:\n",
        "    result = \"Entertainment\"\n",
        "  elif score == [4]:\n",
        "    result = \"Sports\"\n",
        "  return (result, score)"
      ],
      "metadata": {
        "id": "zLsmiSqmiM5J"
      },
      "execution_count": 18,
      "outputs": []
    },
    {
      "cell_type": "markdown",
      "source": [
        "The following article from CNN was copied and passed the above-mentioned function."
      ],
      "metadata": {
        "id": "kN0RKewRyX80"
      }
    },
    {
      "cell_type": "code",
      "source": [
        "article = \"\"\"\n",
        "In a phone call late on Thursday, the Russian president said such sanctions would be a \"colossal mistake\".\n",
        "\n",
        "Mr Biden, meanwhile, told Mr Putin that the US and its allies would respond decisively to any invasion of Ukraine.\n",
        "\n",
        "The call, requested by Russia, was the pair's second such conversation this month and lasted for almost an hour.\n",
        "\n",
        "It marked the latest effort to defuse tensions over Ukraine's eastern border with Russia, where Ukrainian officials say more than 100,000 Russian troops have been sent.\n",
        "\n",
        "The build-up has prompted concern in the West, with the US threatening Mr Putin with sanctions \"like none he's ever seen\" if Ukraine comes under attack.\n",
        "\n",
        "Russia, however, denies it is planning to invade the country and says the troops are there for exercises. It says it is entitled to move its troops freely on its own soil.\n",
        "\n",
        "Although the two sides exchanged warnings during the call, Russian foreign policy adviser Yuri Ushakov told reporters shortly after that Mr Putin was \"pleased\" with the conversation. He added that it had created a \"good backdrop\" for future talks.\n",
        "\n",
        "A senior US official, who spoke on condition of anonymity, said the tone had been \"serious and substantive.\"\n",
        "\n",
        "\"President Biden reiterated that substantive progress in these dialogues can occur only in an environment of de-escalation,\" White House Press Secretary Jen Psaki said.\n",
        "\n",
        "\"He made clear that the United States and its allies and partners will respond decisively if Russia further invades Ukraine,\" she added.\n",
        "\n",
        "US and Russian officials are set to meet for in-person talks in Geneva next month, and the White House said Mr Biden urged his Russian counterpart to pursue a diplomatic solution.\n",
        "\n",
        "In a holiday message before Thursday's call, Mr Putin told Mr Biden he was \"convinced\" the pair could work together based on \"mutual respect and consideration of each other's national interests\".\n",
        "\n",
        "His spokesman, Dmitry Peskov, said Moscow was \"in the mood for a conversation\".\"\"\""
      ],
      "metadata": {
        "id": "77CLwZ50iRas"
      },
      "execution_count": 19,
      "outputs": []
    },
    {
      "cell_type": "markdown",
      "source": [
        "And there you go... the article was political and the classifier gave correct prediction."
      ],
      "metadata": {
        "id": "k4uoTG_byd7A"
      }
    },
    {
      "cell_type": "code",
      "source": [
        "res = Get_prediction(article)\n",
        "print(res)"
      ],
      "metadata": {
        "colab": {
          "base_uri": "https://localhost:8080/"
        },
        "id": "8EtYOrfTit5k",
        "outputId": "6b9adf53-f148-466d-9047-c931a60c2fce"
      },
      "execution_count": 20,
      "outputs": [
        {
          "output_type": "stream",
          "name": "stdout",
          "text": [
            "('Politics', array([1]))\n"
          ]
        }
      ]
    },
    {
      "cell_type": "markdown",
      "source": [
        "Another test..."
      ],
      "metadata": {
        "id": "utQ4z44aykI0"
      }
    },
    {
      "cell_type": "code",
      "source": [
        "entertainment = \"\"\"\n",
        "Rupert Grint absolutely loves being a dad. The 33-year-old actor touched on how fatherhood has changed him while promoting season 3 of his Apple TV+ show, Servant. From M. Night Shyamalan, the thriller follows a mourning Philadelphia couple whose marriage is up in the air after an unspeakable tragedy. The rift then opens the door for a mysterious force to enter their home.\n",
        "\n",
        "\"[Fatherhood], it's definitely changed my perspective,\" Grint told ET's Lauren Zima, before touching on the show's theme of how far a person would go for their child. \"Since becoming a dad, kind of midway through, just to really have a better sense of what that can do to a family, that kind of level of loss is unimaginable. And yeah, I mean, it's quite hard for me to kind of really completely face that directly. I just find it just incredible.\"\n",
        "\n",
        "\"It's a weird place to be, especially when Wednesday first came. I remember I brought her to the set this season,\" he continued. \"She thought she was at Sesame Street, which was very far away from Sesame Street. But yeah, it's really interesting.\"\"\"\n",
        "\n",
        "res = Get_prediction(entertainment)\n",
        "print(res)"
      ],
      "metadata": {
        "colab": {
          "base_uri": "https://localhost:8080/"
        },
        "id": "T36aoCnik83G",
        "outputId": "742e5db4-a162-45b3-9d80-643c5e94eba3"
      },
      "execution_count": 21,
      "outputs": [
        {
          "output_type": "stream",
          "name": "stdout",
          "text": [
            "('Entertainment', array([3]))\n"
          ]
        }
      ]
    },
    {
      "cell_type": "markdown",
      "source": [
        "And another..."
      ],
      "metadata": {
        "id": "bAj9H_WbylzC"
      }
    },
    {
      "cell_type": "code",
      "source": [
        "sprt = \"\"\"\n",
        "Brown, whose previous best was 46 against the New York Knicks in October, scored 21 points in the fourth quarter.\n",
        "\n",
        "It helped the Celtics come from 14 points down with four minutes and 20 seconds left in regulation time.\n",
        "\n",
        "He started overtime with his fifth three-pointer of the game, and also had 11 rebounds and four assists.\n",
        "\n",
        "\"I was just trying to be aggressive the entire time,\" he said.\n",
        "\n",
        "\"My team-mates encouraged me to take the shots. I feel like I took some good looks and they went down tonight.\"\n",
        "\n",
        "Brown's layup with 38 seconds left in regulation levelled the score at 98-98 and he scored again to put Boston up 100-98 with 30 seconds left, but Tim Frazier scored for Orlando to force overtime.\n",
        "\n",
        "Both teams were missing their leading scorers with Orlando's Cole Anthony sidelined by a sprained ankle while Boston's Jayson Tatum missed a fourth straight game because of Covid-19 concerns.\n",
        "\n",
        "Elsewhere, Dallas Mavericks star Luka Doncic marked his return from a 10-game absence with 14 points, 10 assists and nine rebounds in their 95-86 away victory over the Oklahoma City Thunder.\n",
        "\n",
        "The 22-year-old had missed five games with an ankle injury and then five more because of Covid.\n",
        "\n",
        "\"My chest was burning,\" said the Slovenian, who played 31 minutes on his comeback. \"It was a weird feeling, but happy. Very happy.\"\n",
        "\n",
        "Thunder rookie Josh Giddey became the youngest NBA player to post a triple-double with 17 points, 14 assists and 13 rebounds.\n",
        "\n",
        "Aged 19 years and 84 days, Giddey surpassed LaMelo Ball's record of 19 years and 140 days, and also came up with four steals in his first game back after missing the last three for Covid reasons.\n",
        "\"\"\"\n",
        "\n",
        "res = Get_prediction(sprt)\n",
        "print(res)"
      ],
      "metadata": {
        "colab": {
          "base_uri": "https://localhost:8080/"
        },
        "id": "7hXtuPhKlGlX",
        "outputId": "f229e0c6-b8df-415f-cf3e-e4e12a2d8756"
      },
      "execution_count": 22,
      "outputs": [
        {
          "output_type": "stream",
          "name": "stdout",
          "text": [
            "('Sports', array([4]))\n"
          ]
        }
      ]
    },
    {
      "cell_type": "code",
      "source": [],
      "metadata": {
        "id": "OwX1OCDblK9g"
      },
      "execution_count": null,
      "outputs": []
    }
  ]
}